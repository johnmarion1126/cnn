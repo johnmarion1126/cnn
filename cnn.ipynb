{
 "cells": [
  {
   "cell_type": "code",
   "execution_count": 1,
   "id": "e0c5efe4",
   "metadata": {},
   "outputs": [],
   "source": [
    "import numpy as np\n",
    "import random\n",
    "import matplotlib.pyplot as plt\n",
    "from keras.models import Sequential\n",
    "from keras.layers import Conv2D, MaxPooling2D, Dense, Flatten"
   ]
  },
  {
   "cell_type": "code",
   "execution_count": 2,
   "id": "36d20910",
   "metadata": {},
   "outputs": [],
   "source": [
    "# Loads data to be used for training\n",
    "# Training data contains 2000 images with each the size of 30000\n",
    "# 100 x 100 x 3 (pixel width * pixel length * rgb colors)\n",
    "X_train = np.loadtxt('pinput.csv', delimiter = ',')\n",
    "Y_train = np.loadtxt('pinput_label.csv', delimiter = ',')\n",
    "\n",
    "# Loads data to be used for testing\n",
    "# Testing data contains 400 images with each the size of 30000\n",
    "# 100 x 100 x 3 (pixel width * pixel length * rgb colors)\n",
    "X_test = np.loadtxt('pinput_test.csv', delimiter = ',')\n",
    "Y_test = np.loadtxt('pinput_test_label.csv', delimiter = ',')"
   ]
  },
  {
   "cell_type": "code",
   "execution_count": 3,
   "id": "783e03d0",
   "metadata": {},
   "outputs": [
    {
     "name": "stdout",
     "output_type": "stream",
     "text": [
      "Shape of X_train:  (568, 30000)\n",
      "Shape of Y_train:  (568,)\n",
      "Shape of X_test:  (124, 30000)\n",
      "Shape of Y_test:  (124,)\n"
     ]
    }
   ],
   "source": [
    "print(\"Shape of X_train: \", X_train.shape)\n",
    "print(\"Shape of Y_train: \", Y_train.shape)\n",
    "print(\"Shape of X_test: \", X_test.shape)\n",
    "print(\"Shape of Y_test: \", Y_test.shape)"
   ]
  },
  {
   "cell_type": "code",
   "execution_count": 4,
   "id": "bd705028",
   "metadata": {},
   "outputs": [],
   "source": [
    "# Reshape data for training\n",
    "# Breakdown 30000 to 100, 100, 3\n",
    "X_train = X_train.reshape(len(X_train), 100, 100, 3)\n",
    "Y_train = Y_train.reshape(len(Y_train), 1)\n",
    "X_test = X_test.reshape(len(X_test), 100, 100, 3)\n",
    "Y_test = Y_test.reshape(len(Y_test), 1)\n",
    "\n",
    "# Values are in RGB (0 - 255)\n",
    "# We want to rescale them from 0 to 1 for training\n",
    "# Divide all values by 255\n",
    "X_train = X_train/255.0\n",
    "X_test = X_test/255.0"
   ]
  },
  {
   "cell_type": "markdown",
   "id": "381806f5",
   "metadata": {},
   "source": []
  },
  {
   "cell_type": "code",
   "execution_count": 5,
   "id": "0565b2e8",
   "metadata": {},
   "outputs": [
    {
     "name": "stdout",
     "output_type": "stream",
     "text": [
      "Shape of X_train:  (568, 100, 100, 3)\n",
      "Shape of Y_train:  (568, 1)\n",
      "Shape of X_test:  (124, 100, 100, 3)\n",
      "Shape of Y_test:  (124, 1)\n"
     ]
    }
   ],
   "source": [
    "print(\"Shape of X_train: \", X_train.shape)\n",
    "print(\"Shape of Y_train: \", Y_train.shape)\n",
    "print(\"Shape of X_test: \", X_test.shape)\n",
    "print(\"Shape of Y_test: \", Y_test.shape)"
   ]
  },
  {
   "cell_type": "code",
   "execution_count": 6,
   "id": "25ad2ee5",
   "metadata": {},
   "outputs": [],
   "source": [
    "# Sequential means that the layers are created sequentially\n",
    "model = Sequential([\n",
    "\n",
    "    # FIRST LAYER\n",
    "\n",
    "    # Conv2D - 2D convolution layer\n",
    "    \n",
    "    # 32 filters - used to scan images and to produce some results that tells gives us an idea about the image's features\n",
    "    # Filters aren't defined, the values are learned during the training process\n",
    "\n",
    "    # (3, 3) - size of filter, height x width\n",
    "    # 'relu' - activiation function, removes negative values\n",
    "    # input shape - what kind of shape the model is expecting\n",
    "    # 3 100 x 100 images\n",
    "    Conv2D(32, (3,3), activation = 'relu', input_shape = (100, 100, 3)),\n",
    "\n",
    "    # (2, 2) - filter size, height x width\n",
    "    # Down samples features to reduce image size and to reduce computational cost\n",
    "    MaxPooling2D((2,2)),\n",
    "    \n",
    "    # SECOND LAYER\n",
    "\n",
    "    Conv2D(32, (3,3), activation = 'relu'),\n",
    "    MaxPooling2D((2,2)),\n",
    "    \n",
    "    # Converts data into a 1-dimensional array\n",
    "    Flatten(),\n",
    "\n",
    "    # THIRD LAYER\n",
    "\n",
    "    # Dense Layer - fully connected layers\n",
    "    # 64 - number of nuerons\n",
    "    # 'relu' -activation function\n",
    "    Dense(64, activation = 'relu'),\n",
    "\n",
    "    # OUTPUT LAYER\n",
    "\n",
    "    # Only have 1 output because we're using binary classification\n",
    "    # Due to that, we're using the sigmoid activation function, result will range from 0 to 1\n",
    "    Dense(1, activation = 'sigmoid')\n",
    "])"
   ]
  },
  {
   "cell_type": "code",
   "execution_count": 7,
   "id": "2e079f3c",
   "metadata": {},
   "outputs": [],
   "source": [
    "# Add our loss function and back propagation model\n",
    "\n",
    "# Loss Function\n",
    "# binary_crossentropy computes the cross-entropy loss between the true labels and predicted labels, used for binary classification\n",
    "\n",
    "# Back  Propagation\n",
    "# adam is a stochastic gradient descent method\n",
    "\n",
    "# Metrics\n",
    "# A function that is used to jduge the performance of the model\n",
    "# Similar to loss functions, but the results aren't used for training the model\n",
    "# accuracy calculates how often predicitons equal to the labels\n",
    "model.compile(loss = 'binary_crossentropy', optimizer = 'adam', metrics = ['accuracy'])"
   ]
  },
  {
   "cell_type": "code",
   "execution_count": 8,
   "id": "e8943bfb",
   "metadata": {},
   "outputs": [
    {
     "name": "stdout",
     "output_type": "stream",
     "text": [
      "Epoch 1/5\n",
      "9/9 [==============================] - 5s 232ms/step - loss: 1.0628 - accuracy: 0.5176\n",
      "Epoch 2/5\n",
      "9/9 [==============================] - 2s 206ms/step - loss: 0.6776 - accuracy: 0.5616\n",
      "Epoch 3/5\n",
      "9/9 [==============================] - 2s 210ms/step - loss: 0.6256 - accuracy: 0.6673\n",
      "Epoch 4/5\n",
      "9/9 [==============================] - 2s 187ms/step - loss: 0.5543 - accuracy: 0.7359\n",
      "Epoch 5/5\n",
      "9/9 [==============================] - 2s 198ms/step - loss: 0.4902 - accuracy: 0.7799\n"
     ]
    },
    {
     "data": {
      "text/plain": [
       "<keras.callbacks.History at 0x28d81e22910>"
      ]
     },
     "execution_count": 8,
     "metadata": {},
     "output_type": "execute_result"
    }
   ],
   "source": [
    "# fit trains the data\n",
    "# X_train and Y_Train are inputs\n",
    "# epochs are the number of times we want to train the model\n",
    "# batch size is the number of sampels we want to use to train the model\n",
    "model.fit(X_train, Y_train, epochs = 5, batch_size = 64)"
   ]
  },
  {
   "cell_type": "code",
   "execution_count": 9,
   "id": "074832b2",
   "metadata": {},
   "outputs": [
    {
     "name": "stdout",
     "output_type": "stream",
     "text": [
      "4/4 [==============================] - 0s 27ms/step - loss: 0.5330 - accuracy: 0.7419\n"
     ]
    },
    {
     "data": {
      "text/plain": [
       "[0.5330232381820679, 0.7419354915618896]"
      ]
     },
     "execution_count": 9,
     "metadata": {},
     "output_type": "execute_result"
    }
   ],
   "source": [
    "# Evaluate model's performance on the testing data\n",
    "model.evaluate(X_test, Y_test)\n",
    "\n",
    "# Low accuracy can be due to the small dataset"
   ]
  },
  {
   "cell_type": "code",
   "execution_count": 11,
   "id": "4f6c3183",
   "metadata": {},
   "outputs": [
    {
     "data": {
      "image/png": "[encoded data removed]",
      "text/plain": [
       "<Figure size 432x288 with 1 Axes>"
      ]
     },
     "metadata": {
      "needs_background": "light"
     },
     "output_type": "display_data"
    },
    {
     "name": "stdout",
     "output_type": "stream",
     "text": [
      "Our model says it is a : pikachu\n"
     ]
    }
   ],
   "source": [
    "# Get a random image\n",
    "idx2 = random.randint(0, len(Y_test))\n",
    "plt.imshow(X_test[idx2])\n",
    "plt.show()\n",
    "\n",
    "# Reshape image\n",
    "# Pass it to our model\n",
    "y_pred = model.predict(X_test[idx2].reshape(1, 100, 100, 3))\n",
    "y_pred = y_pred > 0.5\n",
    "\n",
    "# Classify it as either a dog or a cat\n",
    "if(y_pred == 0):\n",
    "    pred = 'pikachu'\n",
    "else:\n",
    "    pred = 'raichu'\n",
    "    \n",
    "print(\"Our model says it is a :\", pred)"
   ]
  }
 ],
 "metadata": {
  "kernelspec": {
   "display_name": "Python 3 (ipykernel)",
   "language": "python",
   "name": "python3"
  },
  "language_info": {
   "codemirror_mode": {
    "name": "ipython",
    "version": 3
   },
   "file_extension": ".py",
   "mimetype": "text/x-python",
   "name": "python",
   "nbconvert_exporter": "python",
   "pygments_lexer": "ipython3",
   "version": "3.8.10"
  }
 },
 "nbformat": 4,
 "nbformat_minor": 5
}
