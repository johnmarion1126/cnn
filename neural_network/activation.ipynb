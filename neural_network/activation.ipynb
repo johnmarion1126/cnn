{
 "cells": [
  {
   "cell_type": "code",
   "execution_count": 5,
   "id": "773e1ed2",
   "metadata": {},
   "outputs": [],
   "source": [
    "import numpy"
   ]
  },
  {
   "cell_type": "code",
   "execution_count": 6,
   "id": "4a638263",
   "metadata": {},
   "outputs": [],
   "source": [
    "def NN(m1, m2, w1, w2, b):\n",
    "    z = m1 * w1 + m2 * w2 + b\n",
    "    return sigmoid(z)\n",
    "\n",
    "def sigmoid(x):\n",
    "    return 1/(1 + numpy.exp(-x))"
   ]
  },
  {
   "cell_type": "code",
   "execution_count": 10,
   "id": "51fd897c",
   "metadata": {},
   "outputs": [],
   "source": [
    "w1 = numpy.random.randn()\n",
    "w2 = numpy.random.randn()\n",
    "b = numpy.random.randn()"
   ]
  },
  {
   "cell_type": "code",
   "execution_count": 11,
   "id": "c0b40abd",
   "metadata": {},
   "outputs": [
    {
     "data": {
      "text/plain": [
       "0.01142127818330179"
      ]
     },
     "execution_count": 11,
     "metadata": {},
     "output_type": "execute_result"
    }
   ],
   "source": [
    "NN(3, 1.5, w1, w2, b)"
   ]
  },
  {
   "cell_type": "code",
   "execution_count": null,
   "id": "71d6aff7",
   "metadata": {},
   "outputs": [],
   "source": []
  }
 ],
 "metadata": {
  "kernelspec": {
   "display_name": "Python 3 (ipykernel)",
   "language": "python",
   "name": "python3"
  },
  "language_info": {
   "codemirror_mode": {
    "name": "ipython",
    "version": 3
   },
   "file_extension": ".py",
   "mimetype": "text/x-python",
   "name": "python",
   "nbconvert_exporter": "python",
   "pygments_lexer": "ipython3",
   "version": "3.9.7"
  }
 },
 "nbformat": 4,
 "nbformat_minor": 5
}
